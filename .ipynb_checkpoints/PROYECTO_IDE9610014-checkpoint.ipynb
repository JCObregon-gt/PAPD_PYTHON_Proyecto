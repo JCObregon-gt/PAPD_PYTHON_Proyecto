{
 "cells": [
  {
   "cell_type": "markdown",
   "id": "a6fa6ccb-24d9-4310-b11f-b08fe04e98fa",
   "metadata": {},
   "source": [
    "# Proyecto\n",
    "### José Carlos Obregón Castañeda - IDE9610014"
   ]
  },
  {
   "cell_type": "markdown",
   "id": "b833b19f-ec50-41d6-b4bc-4903f3d7bb85",
   "metadata": {},
   "source": [
    "### 1. Crear un entorno de anaconda con los paquetes que considere necesarios."
   ]
  },
  {
   "cell_type": "code",
   "execution_count": 2,
   "id": "98155794-cf23-48f6-8a40-c2f54f55bd16",
   "metadata": {
    "tags": []
   },
   "outputs": [],
   "source": [
    "import numpy as np\n",
    "import pandas as pd\n",
    "import seaborn as sns\n",
    "import matplotlib.pyplot as plt"
   ]
  },
  {
   "cell_type": "markdown",
   "id": "ca8a2dd0-3d74-429b-8617-620c05bc64a8",
   "metadata": {},
   "source": [
    "### 2. Usando sclicing con NumPy separar los datos en 2 datasets: entrenamiento(80%) y validación y pruebas(20%)."
   ]
  },
  {
   "cell_type": "code",
   "execution_count": 3,
   "id": "89d2cec5-236d-4bdb-8888-e8182a202905",
   "metadata": {
    "tags": []
   },
   "outputs": [
    {
     "name": "stdout",
     "output_type": "stream",
     "text": [
      "Datos de entrenamiento:  1168\n",
      "Datos de prueba:  292\n"
     ]
    }
   ],
   "source": [
    "datos = np.load(\"proyecto_training_data.npy\")\n",
    "df = pd.DataFrame(datos)\n",
    "\n",
    "df.columns = ['SalePrice', 'OverallQual', '1stFlrSF', 'TotRmsAbvGrd', 'YearBuilt', 'LotFrontage'] \n",
    "\n",
    "df_ent = df[:int(len(df)*0.8)] \n",
    "df_prs = df[int(len(df)*0.8):]\n",
    "\n",
    "print(\"Datos de entrenamiento: \", len(df_ent))\n",
    "print(\"Datos de prueba: \", len(df_prs))"
   ]
  },
  {
   "cell_type": "markdown",
   "id": "63e0956a-ba9a-4d76-9fb1-5b99aa7efac5",
   "metadata": {},
   "source": [
    "### 3. Análisis exploratorio de datos: Para cada variable en el dataset calcular (usando numpy o pandas):\n",
    "- media\n",
    "- valor máximo\n",
    "- valor mínimo\n",
    "- rango (peak to peak)\n",
    "- desviación estándar"
   ]
  },
  {
   "cell_type": "code",
   "execution_count": null,
   "id": "cd381fc4-58d6-4a46-98ad-52f36cb27b95",
   "metadata": {
    "scrolled": true,
    "tags": []
   },
   "outputs": [],
   "source": [
    "columnas = df.columns\n",
    "    \n",
    "for col in columnas:\n",
    "    \n",
    "    # obtiene la descripción de la columna\n",
    "    print(col)\n",
    "    print(\"-----------------------------\")\n",
    "    # imprime los valores solicitados.\n",
    "    print(\"Media: \", np.mean(df[col]))\n",
    "    print(\"Máximo: \", np.max(df[col]))\n",
    "    print(\"Mínimo: \", np.max(df[col]))\n",
    "    print(\"Rango PtP: \", np.ptp(df[col]))\n",
    "    print(\"Desviación: \", np.std(df[col]))\n",
    "    print(\"=============================\")\n",
    "    print()\n",
    "    "
   ]
  },
  {
   "cell_type": "markdown",
   "id": "d800411b-cd35-4ed6-8139-034a6ec5b67d",
   "metadata": {},
   "source": [
    "### 4. Para cada variable en el dataset usar seaborn para graficar un histograma de la variable; función displot (https://seaborn.pydata.org/generated/seaborn.distplot.html)"
   ]
  },
  {
   "cell_type": "code",
   "execution_count": null,
   "id": "118157dd-2a18-4642-98e6-b7e91e7c3973",
   "metadata": {
    "tags": []
   },
   "outputs": [],
   "source": [
    "columnas = df.columns\n",
    "    \n",
    "for col in columnas:\n",
    "    \n",
    "    # se cambia a función displot a hisplot debido al mensaje de seaborn:\n",
    "    #    `distplot` is a deprecated function and will be removed in seaborn v0.14.0.\n",
    "    #    Please adapt your code to use either `displot` (a figure-level function with\n",
    "    #    similar flexibility) or `histplot` (an axes-level function for histograms).\n",
    "    # para intentar con displot de todas formas, descomentariar la siguiente línea:\n",
    "    \n",
    "    #sns.distplot(df[col])\n",
    "\n",
    "    sns.histplot(df[col])\n",
    "    plt.show()\n",
    "    print(\"=======================================================================================\")\n",
    "    print()\n",
    "    "
   ]
  },
  {
   "cell_type": "markdown",
   "id": "37c71870-471e-4e55-946f-32316aedaffa",
   "metadata": {
    "tags": []
   },
   "source": [
    "### 5. Para cada variable independiente x :\n",
    "- Calcular el coeficiente de correlación entre x y y.\n",
    "- Graficar x vs y(scatterplot) usando matplotlib.\n",
    "- Colocar el coeficiente de correlacón y colocarlo como parte del título de la gráfica.\n",
    "- Basado en la gráfica y el coeficiente de correlación de cada par x,y elegir las 2 variables con más potencial predictivo es decir las 2 variables que presentan mayor correlación entre dicha variable y la variable dependiente."
   ]
  },
  {
   "cell_type": "code",
   "execution_count": 69,
   "id": "e271ac70-805c-4718-bc87-961515557174",
   "metadata": {
    "tags": []
   },
   "outputs": [
    {
     "name": "stdout",
     "output_type": "stream",
     "text": [
      "SalePrice       1.000000\n",
      "OverallQual     0.790982\n",
      "1stFlrSF        0.605852\n",
      "TotRmsAbvGrd    0.533723\n",
      "YearBuilt       0.522897\n",
      "LotFrontage     0.351799\n",
      "Name: SalePrice, dtype: float64\n"
     ]
    }
   ],
   "source": [
    "# Calcular el coeficiente de correlación entre x y y\n",
    "\n",
    "correlacion = df.corr()['SalePrice']\n",
    "print(correlacion)"
   ]
  },
  {
   "cell_type": "code",
   "execution_count": null,
   "id": "ca92583a-fe6b-4966-b8de-b8721fb91ee5",
   "metadata": {
    "tags": []
   },
   "outputs": [],
   "source": [
    "# Graficar x vs y(scatterplot) usando matplotlib\n",
    "# Colocar el coeficiente de correlacón y colocarlo como parte del título de la gráfica.\n",
    "\n",
    "columnas = df.columns\n",
    "\n",
    "for col in columnas:\n",
    "    if col != 'SalePrice':\n",
    "        \n",
    "        graf = pd.DataFrame(df, columns=['SalePrice'])\n",
    "        graf.columns = ['y']\n",
    "        graf['x']=df[col]\n",
    "        corr = correlacion[col]\n",
    "        \n",
    "        print('--------------------------------------------------------------------------------')\n",
    "        print(col)\n",
    "        print('--------------------------------------------------------------------------------')\n",
    "        plt.scatter(graf['x'], graf['y'], c =\"skyblue\")\n",
    "        plt.title(f'R = {corr}')\n",
    "        plt.show()\n",
    "        print('================================================================================')\n",
    "        "
   ]
  },
  {
   "cell_type": "code",
   "execution_count": 14,
   "id": "b2bbc02c-603b-43c0-bb68-718c215a22a4",
   "metadata": {},
   "outputs": [
    {
     "name": "stdout",
     "output_type": "stream",
     "text": [
      "Las dos variables con mayor correlación son:\n",
      "OverallQual:  0.7909816005838053\n",
      "1stFlrSF:  0.6058521846919153\n"
     ]
    }
   ],
   "source": [
    "# Basado en la gráfica y el coeficiente de correlación de cada par x,y elegir las 2 variables\n",
    "# con más potencial predictivo es decir las 2 variables que presentan mayor correlación\n",
    "# entre dicha variable y la variable dependiente\n",
    "\n",
    "print('Las dos variables con mayor correlación son:')\n",
    "print('OverallQual: ',correlacion.iloc[1])\n",
    "print('1stFlrSF: ',correlacion.iloc[2])\n"
   ]
  },
  {
   "cell_type": "markdown",
   "id": "23084d5e-a616-4545-ba35-04515966d4de",
   "metadata": {},
   "source": [
    "# 6. Crear una función para entrenar un modelo de regresión lineal de una variable y = β0+β1∗x. \n",
    "La función recibe como argumentos: \n",
    "- Vector con la variable independiente x\n",
    "- Vector con la variable dependiente y\n",
    "- Un entero epochs que indica por cuantas iteraciones entrenar el modelo\n",
    "- Un entero \"imprimir_error_cada\", que nos indica cada cuantas iteraciones queremos imprimir a través de print: el número de iteración, el error del modelo en esa iteración, si imprimir_error_cada = 10, se despliega en pantalla el error en las iteraciones: 10, 20, 30, 40, 50.\n",
    "- Escalar α (learning rate): es usado como parte de la expresión matemática para actualizar en cada iteración los parámetros del modelo."
   ]
  },
  {
   "cell_type": "code",
   "execution_count": 120,
   "id": "da15be6e-245e-46c5-9c26-9d2b341688b1",
   "metadata": {},
   "outputs": [],
   "source": [
    "# Creación de clase para cálculo de regresión lineal\n",
    "class regresion_lineal(object):\n",
    "    \n",
    "    def __init__(self, b0 = 1, b1 = 1):\n",
    "        # Setea por default las variables iniciales\n",
    "        self.b0 = b0\n",
    "        self.b1 = b1\n",
    "        \n",
    "    # Calcula los vectores b0 y b1 \n",
    "    def fit(self,x,y):\n",
    "        # Genera la matriz de cálculo\n",
    "        matriz = y\n",
    "        matriz.columns = ['y']\n",
    "        matriz['x'] = x_ent\n",
    "        matriz['x2'] = x_ent**2\n",
    "        matriz['xy'] = matriz['x']*matriz['y'] \n",
    "        \n",
    "        # Obtiene variables finales\n",
    "        n = len(matriz)\n",
    "        Ex2 = sum(matriz['x2'])\n",
    "        Exy = sum(matriz['xy'])\n",
    "        Mx = matriz['x'].mean()\n",
    "        My = matriz['y'].mean()\n",
    "        \n",
    "        # Realiza cálculo de coeficientes\n",
    "        b = (Exy-(n*Mx*My))/(Ex2-(n*(Mx**2)))\n",
    "        a = My-(b*Mx)\n",
    "        self.b0 = a\n",
    "        self.b1 = b\n",
    "        \n",
    "        # Retorna la información\n",
    "        return self.b0, self.b1\n",
    "\n",
    "    # Realiza la predicción y = β0+β1∗x. \n",
    "    def predict(self, x):\n",
    "        y = np.empty_like(x)\n",
    "\n",
    "        for index, value in x.iterrows():\n",
    "            y[index] = self.b0 + self.b1 * value\n",
    "\n",
    "        # Retorna la información\n",
    "        return y"
   ]
  },
  {
   "cell_type": "code",
   "execution_count": 119,
   "id": "66ca8e06-d11f-4319-9f13-2313a4232704",
   "metadata": {},
   "outputs": [
    {
     "data": {
      "image/png": "[encoded data removed]",
      "text/plain": [
       "<Figure size 640x480 with 1 Axes>"
      ]
     },
     "metadata": {},
     "output_type": "display_data"
    }
   ],
   "source": [
    "# Obtiene las columnas para realizar la regresión lineal\n",
    "x_ent = pd.DataFrame(df_ent, columns=['OverallQual'])\n",
    "y_ent = pd.DataFrame(df_ent, columns=['SalePrice'])\n",
    "y_graf = pd.DataFrame(df_ent, columns=['SalePrice'])\n",
    "\n",
    "# Calcular la regresión lineal\n",
    "regresion = regresion_lineal()\n",
    "coeficiente = regresion.fit(x_ent,y_ent)\n",
    "y_predict = regresion.predict(x_ent)\n",
    "\n",
    "# Utiliza los datos para graficar\n",
    "xgraf = x_ent.to_numpy()\n",
    "ygraf = y_graf.to_numpy()\n",
    "\n",
    "# Gráfica de regresión\n",
    "plt.scatter(xgraf, ygraf, color = \"red\") \n",
    "plt.plot(xgraf, y_predict, color = \"blue\")\n",
    "plt.show()\n"
   ]
  }
 ],
 "metadata": {
  "kernelspec": {
   "display_name": "Python 3 (ipykernel)",
   "language": "python",
   "name": "python3"
  },
  "language_info": {
   "codemirror_mode": {
    "name": "ipython",
    "version": 3
   },
   "file_extension": ".py",
   "mimetype": "text/x-python",
   "name": "python",
   "nbconvert_exporter": "python",
   "pygments_lexer": "ipython3",
   "version": "3.11.5"
  }
 },
 "nbformat": 4,
 "nbformat_minor": 5
}

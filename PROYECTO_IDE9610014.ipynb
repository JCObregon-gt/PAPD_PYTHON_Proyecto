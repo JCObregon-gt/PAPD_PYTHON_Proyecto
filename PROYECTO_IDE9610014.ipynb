{
 "cells": [
  {
   "cell_type": "markdown",
   "id": "a6fa6ccb-24d9-4310-b11f-b08fe04e98fa",
   "metadata": {},
   "source": [
    "# Proyecto\n",
    "### José Carlos Obregón Castañeda - IDE9610014"
   ]
  },
  {
   "cell_type": "markdown",
   "id": "b833b19f-ec50-41d6-b4bc-4903f3d7bb85",
   "metadata": {},
   "source": [
    "### 1. Crear un entorno de anaconda con los paquetes que considere necesarios."
   ]
  },
  {
   "cell_type": "code",
   "execution_count": null,
   "id": "98155794-cf23-48f6-8a40-c2f54f55bd16",
   "metadata": {
    "tags": []
   },
   "outputs": [],
   "source": [
    "import numpy as np\n",
    "import pandas as pd\n",
    "import seaborn as sns\n",
    "import matplotlib.pyplot as plt"
   ]
  },
  {
   "cell_type": "markdown",
   "id": "ca8a2dd0-3d74-429b-8617-620c05bc64a8",
   "metadata": {},
   "source": [
    "### 2. Usando sclicing con NumPy separar los datos en 2 datasets: entrenamiento(80%) y validación y pruebas(20%)."
   ]
  },
  {
   "cell_type": "code",
   "execution_count": null,
   "id": "89d2cec5-236d-4bdb-8888-e8182a202905",
   "metadata": {
    "tags": []
   },
   "outputs": [],
   "source": [
    "datos = np.load(\"proyecto_training_data.npy\")\n",
    "df = pd.DataFrame(datos)\n",
    "\n",
    "df.columns = ['SalePrice', 'OverallQual', '1stFlrSF', 'TotRmsAbvGrd', 'YearBuilt', 'LotFrontage'] \n",
    "\n",
    "df_ent = df[:int(len(df)*0.8)] \n",
    "df_prs = df[int(len(df)*0.8):]\n",
    "\n",
    "print(\"Datos de entrenamiento: \", len(df_ent))\n",
    "print(\"Datos de prueba: \", len(df_prs))"
   ]
  },
  {
   "cell_type": "markdown",
   "id": "63e0956a-ba9a-4d76-9fb1-5b99aa7efac5",
   "metadata": {},
   "source": [
    "### 3. Análisis exploratorio de datos: Para cada variable en el dataset calcular (usando numpy o pandas):\n",
    "- media\n",
    "- valor máximo\n",
    "- valor mínimo\n",
    "- rango (peak to peak)\n",
    "- desviación estándar"
   ]
  },
  {
   "cell_type": "code",
   "execution_count": null,
   "id": "cd381fc4-58d6-4a46-98ad-52f36cb27b95",
   "metadata": {
    "tags": []
   },
   "outputs": [],
   "source": [
    "columnas = df.columns\n",
    "    \n",
    "for col in columnas:\n",
    "    \n",
    "    # obtiene la descripción de la columna\n",
    "    df_desc = df[col].describe()\n",
    "    \n",
    "    # imprime los valores solicitados.\n",
    "    print(\"Media: \", df_desc['mean'])\n",
    "    print(\"Máximo: \", df_desc['max'])\n",
    "    print(\"Rango PtP: \", np.ptp(df[col]))\n",
    "    print(\"Mínimo: \", df_desc['min'])\n",
    "    print(\"Desviación: \", df_desc['std'])\n",
    "    print(\"=============================\")\n",
    "    "
   ]
  },
  {
   "cell_type": "markdown",
   "id": "d800411b-cd35-4ed6-8139-034a6ec5b67d",
   "metadata": {},
   "source": [
    "### 4. Para cada variable en el dataset usar seaborn para graficar un histograma de la variable; función displot (https://seaborn.pydata.org/generated/seaborn.distplot.html)"
   ]
  },
  {
   "cell_type": "code",
   "execution_count": null,
   "id": "118157dd-2a18-4642-98e6-b7e91e7c3973",
   "metadata": {
    "tags": []
   },
   "outputs": [],
   "source": [
    "columnas = df.columns\n",
    "    \n",
    "for col in columnas:\n",
    "    \n",
    "    # se cambia a función displot a hisplot debido al mensaje de seaborn:\n",
    "    #    `distplot` is a deprecated function and will be removed in seaborn v0.14.0.\n",
    "    #    Please adapt your code to use either `displot` (a figure-level function with\n",
    "    #    similar flexibility) or `histplot` (an axes-level function for histograms).\n",
    "    # para intentar con displot de todas formas, descomentariar la siguiente línea:\n",
    "    \n",
    "    #sns.distplot(df[col])\n",
    "\n",
    "    sns.histplot(df[col])\n",
    "    plt.show()\n",
    "    print(\"=======================================================================================\")\n",
    "    print()\n",
    "    "
   ]
  },
  {
   "cell_type": "markdown",
   "id": "37c71870-471e-4e55-946f-32316aedaffa",
   "metadata": {
    "tags": []
   },
   "source": [
    "### 5. Para cada variable independiente x :\n",
    "- Calcular el coeficiente de correlación entre x y y.\n",
    "- Graficar x vs y(scatterplot) usando matplotlib.\n",
    "- Colocar el coeficiente de correlacón y colocarlo como parte del título de la gráfica.\n",
    "- Basado en la gráfica y el coeficiente de correlación de cada par x,y elegir las 2 variables con más potencial predictivo es decir las 2 variables que presentan mayor correlación entre dicha variable y la variable dependiente."
   ]
  },
  {
   "cell_type": "code",
   "execution_count": null,
   "id": "e271ac70-805c-4718-bc87-961515557174",
   "metadata": {
    "tags": []
   },
   "outputs": [],
   "source": [
    "# Calcular el coeficiente de correlación entre x y y\n",
    "\n",
    "correlacion = df.corr()['SalePrice']\n",
    "print(correlacion)\n"
   ]
  },
  {
   "cell_type": "code",
   "execution_count": null,
   "id": "ca92583a-fe6b-4966-b8de-b8721fb91ee5",
   "metadata": {
    "tags": []
   },
   "outputs": [],
   "source": [
    "# Graficar x vs y(scatterplot) usando matplotlib\n",
    "# Colocar el coeficiente de correlacón y colocarlo como parte del título de la gráfica.\n",
    "\n",
    "columnas = df.columns\n",
    "\n",
    "for col in columnas:\n",
    "    if col != 'SalePrice':\n",
    "        \n",
    "        graf = pd.DataFrame(df, columns=['SalePrice'])\n",
    "        graf.columns = ['y']\n",
    "        graf['x']=df[col]\n",
    "        corr = correlacion[col]\n",
    "        \n",
    "        print('--------------------------------------------------------------------------------')\n",
    "        print(col)\n",
    "        print('--------------------------------------------------------------------------------')\n",
    "        plt.scatter(graf['x'], graf['y'], c =\"blue\")\n",
    "        plt.title(f'R = {corr}')\n",
    "        plt.show()\n",
    "        print('================================================================================')\n",
    "        "
   ]
  }
 ],
 "metadata": {
  "kernelspec": {
   "display_name": "Python 3 (ipykernel)",
   "language": "python",
   "name": "python3"
  },
  "language_info": {
   "codemirror_mode": {
    "name": "ipython",
    "version": 3
   },
   "file_extension": ".py",
   "mimetype": "text/x-python",
   "name": "python",
   "nbconvert_exporter": "python",
   "pygments_lexer": "ipython3",
   "version": "3.11.5"
  }
 },
 "nbformat": 4,
 "nbformat_minor": 5
}

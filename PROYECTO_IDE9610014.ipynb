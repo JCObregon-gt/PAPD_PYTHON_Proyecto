{
 "cells": [
  {
   "cell_type": "markdown",
   "id": "a6fa6ccb-24d9-4310-b11f-b08fe04e98fa",
   "metadata": {},
   "source": [
    "# Proyecto\n",
    "### José Carlos Obregón Castañeda - IDE9610014"
   ]
  },
  {
   "cell_type": "code",
   "execution_count": null,
   "id": "3036d94d-b362-4e60-aefa-43a50b61c930",
   "metadata": {},
   "outputs": [],
   "source": []
  }
 ],
 "metadata": {
  "kernelspec": {
   "display_name": "Python 3 (ipykernel)",
   "language": "python",
   "name": "python3"
  },
  "language_info": {
   "codemirror_mode": {
    "name": "ipython",
    "version": 3
   },
   "file_extension": ".py",
   "mimetype": "text/x-python",
   "name": "python",
   "nbconvert_exporter": "python",
   "pygments_lexer": "ipython3",
   "version": "3.11.5"
  }
 },
 "nbformat": 4,
 "nbformat_minor": 5
}
